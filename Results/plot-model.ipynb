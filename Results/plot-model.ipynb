{
 "cells": [
  {
   "cell_type": "code",
   "execution_count": 1,
   "metadata": {},
   "outputs": [
    {
     "name": "stdout",
     "output_type": "stream",
     "text": [
      "[PhysicalDevice(name='/physical_device:GPU:0', device_type='GPU')]\n"
     ]
    }
   ],
   "source": [
    "import os\n",
    "import gc\n",
    "import numpy as np\n",
    "import random as rn\n",
    "import pandas as pd\n",
    "import tensorflow as tf\n",
    "from keras import callbacks\n",
    "from parameters import *\n",
    "\n",
    "print(tf.config.list_physical_devices('GPU'))\n",
    "\n",
    "tf.config.experimental.set_memory_growth(\n",
    "    tf.config.list_physical_devices('GPU')[0], True)\n",
    "\n",
    "rn.seed(SEED)\n",
    "np.random.seed(SEED)\n",
    "tf.random.set_seed(SEED)\n",
    "os.environ['PYTHONHASHSEED'] = str(SEED)\n"
   ]
  },
  {
   "cell_type": "code",
   "execution_count": null,
   "metadata": {},
   "outputs": [],
   "source": [
    "import os\n",
    "import requests\n",
    "import numpy as np\n",
    "import random as rn\n",
    "import tensorflow as tf\n",
    "from keras import layers, Sequential\n",
    "from parameters import *\n",
    "\n",
    "rn.seed(SEED)\n",
    "np.random.seed(SEED)\n",
    "tf.random.set_seed(SEED)\n",
    "os.environ['PYTHONHASHSEED'] = str(SEED)\n",
    "\n",
    "input_0 = layers.Input(shape=(380, 380, 3))\n",
    "input_0 = layers.RandomFlip(seed=SEED)(input_0)\n",
    "input_0 = layers.RandomContrast(factor=0.1, seed=SEED)(input_0)\n",
    "input_0 = layers.RandomRotation(factor=(-0.45, 0.45), seed=SEED)(input_0)\n",
    "\n",
    "r = requests.get('http://storage.googleapis.com/tensorflow/keras-applications/efficientnet_v2/efficientnetv2-l_notop.h5', allow_redirects=True)\n",
    "with open('model.h5', 'wb') as f:\n",
    "    f.write(r.content)\n",
    "model_path = os.path.join(MODEL_FOLDER_PATH, PRE_TRAINED_MODEL_NAME)\n",
    "\n",
    "effnet = tf.keras.applications.efficientnet_v2.EfficientNetV2L(weights='model.h5',\n",
    "                                                               include_top=False,\n",
    "                                                               input_tensor=input_0, \n",
    "                                                               input_shape=(IMG_SIZE, IMG_SIZE, CHANNELS))\n",
    "\n",
    "effnet.trainable = False\n",
    "\n",
    "effnet_no_top_block = effnet.layers[-4].output\n",
    "\n",
    "def build_top(effnet_output, suffix, output_num):\n",
    "    conv = layers.Conv2D.from_config(effnet.layers[-3].get_config())\n",
    "    conv._name = f'top_conv_{suffix}'\n",
    "    top_component = conv(effnet_output)\n",
    "    bn = layers.BatchNormalization.from_config(effnet.layers[-2].get_config())\n",
    "    bn._name = f'top_bn_{suffix}'\n",
    "    top_component = bn(top_component)\n",
    "    act = layers.Activation.from_config(effnet.layers[-1].get_config())\n",
    "    act._name = f'top_activation_{suffix}'\n",
    "    top_component = act(top_component)\n",
    "    \n",
    "    top_component = layers.GlobalAveragePooling2D()(top_component)\n",
    "    top_component = layers.BatchNormalization()(top_component)\n",
    "    top_component = layers.Dropout(0.5)(top_component)\n",
    "    \n",
    "    top_component = layers.Dense(output_num, activation='softmax')(top_component)\n",
    "    return top_component\n",
    "\n",
    "top_output_1 = build_top(effnet_no_top_block, 1, 5)\n",
    "top_output_2 = build_top(effnet_no_top_block, 2, 2)\n",
    "\n",
    "top_block = tf.keras.Model(inputs=effnet.input, outputs=[top_output_1, top_output_2])\n",
    "\n",
    "for i in [-3, -2, -1]:\n",
    "    top_block.layers[2*i-8].set_weights(effnet.layers[i].get_weights())\n",
    "    top_block.layers[2*i-7].set_weights(effnet.layers[i].get_weights())\n",
    "\n",
    "top_block.build((None, IMG_SIZE, IMG_SIZE, CHANNELS))"
   ]
  },
  {
   "cell_type": "code",
   "execution_count": null,
   "metadata": {},
   "outputs": [],
   "source": [
    "tf.keras.utils.plot_model(top_block, to_file='model.pdf', show_shapes=True, show_layer_activations=True, expand_nested=True)"
   ]
  },
  {
   "cell_type": "code",
   "execution_count": null,
   "metadata": {},
   "outputs": [],
   "source": []
  }
 ],
 "metadata": {
  "interpreter": {
   "hash": "a848f991fca17c2fb7c9c099f760975d8fb975c9ca596277969e92f061fcba78"
  },
  "kernelspec": {
   "display_name": "Python 3.9.7 ('pro3')",
   "language": "python",
   "name": "python3"
  },
  "language_info": {
   "codemirror_mode": {
    "name": "ipython",
    "version": 3
   },
   "file_extension": ".py",
   "mimetype": "text/x-python",
   "name": "python",
   "nbconvert_exporter": "python",
   "pygments_lexer": "ipython3",
   "version": "3.9.7"
  },
  "orig_nbformat": 4
 },
 "nbformat": 4,
 "nbformat_minor": 2
}
